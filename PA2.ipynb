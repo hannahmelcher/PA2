{
 "cells": [
  {
   "cell_type": "markdown",
   "id": "cc69e955",
   "metadata": {},
   "source": [
    "# PA2\n",
    "# Hannah Melcher\n",
    "# Version 1\n",
    "# CS-150\n"
   ]
  },
  {
   "cell_type": "code",
   "execution_count": 13,
   "id": "3e84f341",
   "metadata": {},
   "outputs": [
    {
     "name": "stdout",
     "output_type": "stream",
     "text": [
      "Enter a floating point number: 44.3\n"
     ]
    }
   ],
   "source": [
    "number=float(input(\"Enter a floating point number: \"))"
   ]
  },
  {
   "cell_type": "code",
   "execution_count": 3,
   "id": "a47a9140",
   "metadata": {},
   "outputs": [
    {
     "name": "stdout",
     "output_type": "stream",
     "text": [
      "Enter an integer: 16\n"
     ]
    }
   ],
   "source": [
    "fav_number=int(input(\"Enter an integer: \"))"
   ]
  },
  {
   "cell_type": "code",
   "execution_count": 6,
   "id": "3b3fb454",
   "metadata": {},
   "outputs": [
    {
     "name": "stdout",
     "output_type": "stream",
     "text": [
      "The sum is:  60.3\n"
     ]
    }
   ],
   "source": [
    "print(\"The sum is: \",44.3+16) "
   ]
  },
  {
   "cell_type": "code",
   "execution_count": 7,
   "id": "f51b2ade",
   "metadata": {},
   "outputs": [
    {
     "name": "stdout",
     "output_type": "stream",
     "text": [
      "The difference is:  28.299999999999997\n"
     ]
    }
   ],
   "source": [
    "print(\"The difference is: \",44.3-16) "
   ]
  },
  {
   "cell_type": "code",
   "execution_count": 8,
   "id": "289ec14a",
   "metadata": {},
   "outputs": [
    {
     "name": "stdout",
     "output_type": "stream",
     "text": [
      "The product is:  708.8\n"
     ]
    }
   ],
   "source": [
    "print(\"The product is: \",44.3*16) "
   ]
  },
  {
   "cell_type": "code",
   "execution_count": 11,
   "id": "4d1a83e5",
   "metadata": {},
   "outputs": [
    {
     "name": "stdout",
     "output_type": "stream",
     "text": [
      "The quotint is:  2.76875\n"
     ]
    }
   ],
   "source": [
    "print(\"The quotint is: \",44.3/16) "
   ]
  },
  {
   "cell_type": "code",
   "execution_count": 12,
   "id": "99f9dab5",
   "metadata": {},
   "outputs": [
    {
     "name": "stdout",
     "output_type": "stream",
     "text": [
      "<class 'float'>\n"
     ]
    }
   ],
   "source": [
    "print(type(number))"
   ]
  },
  {
   "cell_type": "code",
   "execution_count": null,
   "id": "801f368f",
   "metadata": {},
   "outputs": [],
   "source": []
  }
 ],
 "metadata": {
  "kernelspec": {
   "display_name": "Python 3 (ipykernel)",
   "language": "python",
   "name": "python3"
  },
  "language_info": {
   "codemirror_mode": {
    "name": "ipython",
    "version": 3
   },
   "file_extension": ".py",
   "mimetype": "text/x-python",
   "name": "python",
   "nbconvert_exporter": "python",
   "pygments_lexer": "ipython3",
   "version": "3.9.13"
  }
 },
 "nbformat": 4,
 "nbformat_minor": 5
}
